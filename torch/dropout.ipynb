{
 "cells": [
  {
   "cell_type": "code",
   "execution_count": 2,
   "metadata": {},
   "outputs": [
    {
     "data": {
      "text/plain": [
       "True"
      ]
     },
     "execution_count": 2,
     "metadata": {},
     "output_type": "execute_result"
    }
   ],
   "source": [
    "torch.cuda.is_available()"
   ]
  },
  {
   "cell_type": "code",
   "execution_count": null,
   "metadata": {},
   "outputs": [
    {
     "name": "stdout",
     "output_type": "stream",
     "text": [
      "inputs tensor([0.9502, 0.3274, 0.6923, 0.6045, 0.6543, 0.9182, 0.6472, 0.1671, 0.2780,\n",
      "        0.6301])\n",
      "Normal (train) model:\n",
      "Model 1 tensor([0.0000, 0.0000, 1.3846, 1.2090, 0.0000, 1.8364, 1.2945, 0.0000, 0.5560,\n",
      "        1.2601])\n",
      "Model 2 tensor([0.0000, 0.6547, 1.3846, 1.2090, 1.3086, 1.8364, 1.2945, 0.0000, 0.0000,\n",
      "        1.2601])\n",
      "\n",
      "Evaluation mode:\n",
      "Model 1 tensor([0.9502, 0.3274, 0.6923, 0.6045, 0.6543, 0.9182, 0.6472, 0.1671, 0.2780,\n",
      "        0.6301])\n",
      "Model 2 tensor([0.9502, 0.3274, 0.6923, 0.6045, 0.6543, 0.9182, 0.6472, 0.1671, 0.2780,\n",
      "        0.6301])\n",
      "Print summary:\n",
      "Model1()\n",
      "Model2(\n",
      "  (drop_layer): Dropout(p=0.5, inplace=False)\n",
      ")\n"
     ]
    }
   ],
   "source": [
    "import torch\n",
    "import torch.nn as nn\n",
    "import torch.nn.functional as F\n",
    "\n",
    "class Model1(nn.Module):\n",
    "    # Model 1 using functional dropout\n",
    "    def __init__(self, p=0.0):\n",
    "        super().__init__()\n",
    "        self.p = p\n",
    "\n",
    "    def forward(self, inputs):\n",
    "        # 这里的self.training是nn.Module的一个属性，用来判断当前是否是训练模式\n",
    "        # model.eval()会将self.training设置为False\n",
    "        return F.dropout(inputs, p=self.p, training=self.training)\n",
    "\n",
    "class Model2(nn.Module):\n",
    "    # Model 2 using dropout module\n",
    "    def __init__(self, p=0.0):\n",
    "        super().__init__()\n",
    "        self.drop_layer = nn.Dropout(p=p)\n",
    "\n",
    "    def forward(self, inputs):\n",
    "        return self.drop_layer(inputs)\n",
    "model1 = Model1(p=0.5) # functional dropout \n",
    "model2 = Model2(p=0.5) # dropout module\n",
    "\n",
    "# creating inputs\n",
    "inputs = torch.rand(10)\n",
    "print(\"inputs\", inputs)\n",
    "# forwarding inputs in train mode\n",
    "print('Normal (train) model:')\n",
    "print('Model 1', model1(inputs))\n",
    "print('Model 2', model2(inputs))\n",
    "print()\n",
    "\n",
    "# switching to eval mode\n",
    "model1.eval()\n",
    "model2.eval()\n",
    "\n",
    "# forwarding inputs in evaluation mode\n",
    "print('Evaluation mode:')\n",
    "print('Model 1', model1(inputs))\n",
    "print('Model 2', model2(inputs))\n",
    "# show model summary\n",
    "print('Print summary:')\n",
    "print(model1)\n",
    "print(model2)\n"
   ]
  }
 ],
 "metadata": {
  "kernelspec": {
   "display_name": "torch",
   "language": "python",
   "name": "python3"
  },
  "language_info": {
   "codemirror_mode": {
    "name": "ipython",
    "version": 3
   },
   "file_extension": ".py",
   "mimetype": "text/x-python",
   "name": "python",
   "nbconvert_exporter": "python",
   "pygments_lexer": "ipython3",
   "version": "3.9.12"
  }
 },
 "nbformat": 4,
 "nbformat_minor": 2
}
